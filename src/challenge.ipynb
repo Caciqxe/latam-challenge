{
 "cells": [
  {
   "cell_type": "markdown",
   "metadata": {},
   "source": [
    "En este archivo puedes escribir lo que estimes conveniente. Te recomendamos detallar tu solución y todas las suposiciones que estás considerando. Aquí puedes ejecutar las funciones que definiste en los otros archivos de la carpeta src, medir el tiempo, memoria, etc."
   ]
  },
  {
   "cell_type": "code",
   "execution_count": 1,
   "metadata": {},
   "outputs": [],
   "source": [
    "### Supuesto: Subi el json utilizando git large file storage por lo que debería ser utilizado de la misma forma. En caso de utilizar el archivo json sin descargar, este debe ser ingresado en la carpeta src/json \n",
    "### Lo primero que hice fue crear una función para leer el json y permitiendo que el codigo sea más reutilizable.\n",
    "### Los parametros permiten manejar para que pregunta se encuentra orientada la función."
   ]
  },
  {
   "cell_type": "code",
   "execution_count": null,
   "metadata": {},
   "outputs": [],
   "source": [
    "### Las principales librerias que utilice externas fueron jsonlines, ya que se encuentra optimizada para leer archivos JSON lines\n",
    "### y la libreria de emoji para poder extraer facilmente los emojis de los tweets."
   ]
  },
  {
   "cell_type": "markdown",
   "metadata": {},
   "source": [
    "Q1"
   ]
  },
  {
   "cell_type": "code",
   "execution_count": 2,
   "metadata": {},
   "outputs": [],
   "source": [
    "### Lo primero que hice después de leer el archivo json, fue realizar un conteo de las 10 fechas más repetidas en los tweets. Posteriormente guarde las fechas como un ranking\n",
    "### y filtre los tweets que se encontraban en esas fechas, para poder realizar un conteo de los usuarios que más publicaron. Con eso agregue los usuarios al ranking que había guardado."
   ]
  },
  {
   "cell_type": "markdown",
   "metadata": {},
   "source": [
    "Q2"
   ]
  },
  {
   "cell_type": "code",
   "execution_count": 3,
   "metadata": {},
   "outputs": [],
   "source": [
    "### Cree una nueva función para esta pregunta para poder capturar los emojis y agregarlos a una lista. Entonces la utilice por cada tweet para poder contar los 10 emojis más utilizados."
   ]
  },
  {
   "cell_type": "markdown",
   "metadata": {},
   "source": [
    "Q3"
   ]
  },
  {
   "cell_type": "code",
   "execution_count": null,
   "metadata": {},
   "outputs": [],
   "source": [
    "### En esta respuesta utilice la libreria regex para filtrar los @ de los tweets y poder contar los 10 usuarios más mencionados."
   ]
  }
 ],
 "metadata": {
  "kernelspec": {
   "display_name": "Python 3",
   "language": "python",
   "name": "python3"
  },
  "language_info": {
   "codemirror_mode": {
    "name": "ipython",
    "version": 3
   },
   "file_extension": ".py",
   "mimetype": "text/x-python",
   "name": "python",
   "nbconvert_exporter": "python",
   "pygments_lexer": "ipython3",
   "version": "3.8.0"
  },
  "orig_nbformat": 4
 },
 "nbformat": 4,
 "nbformat_minor": 2
}
